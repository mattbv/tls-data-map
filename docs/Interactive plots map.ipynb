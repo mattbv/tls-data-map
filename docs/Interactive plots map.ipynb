{
 "cells": [
  {
   "cell_type": "code",
   "execution_count": 89,
   "metadata": {
    "collapsed": true
   },
   "outputs": [],
   "source": [
    "import os\n",
    "import folium\n",
    "import pandas as pd\n",
    "from folium.plugins import MarkerCluster"
   ]
  },
  {
   "cell_type": "code",
   "execution_count": 90,
   "metadata": {},
   "outputs": [
    {
     "data": {
      "text/html": [
       "<div>\n",
       "<table border=\"1\" class=\"dataframe\">\n",
       "  <thead>\n",
       "    <tr style=\"text-align: right;\">\n",
       "      <th></th>\n",
       "      <th>SITE_NAME</th>\n",
       "      <th>PLOT_NAME</th>\n",
       "      <th>SITE_COUNTRY</th>\n",
       "      <th>SITE_LAT</th>\n",
       "      <th>SITE_LONG</th>\n",
       "      <th>SITE_ALT</th>\n",
       "      <th>YEAR</th>\n",
       "      <th>SCAN_DATES</th>\n",
       "      <th>NUMBER_OF_SCANS</th>\n",
       "      <th>SCAN_ANGULAR_RES</th>\n",
       "      <th>TILT_SCAN</th>\n",
       "      <th>CAMERA_DATA</th>\n",
       "      <th>DATA_REGISTERED</th>\n",
       "      <th>TREES_EXTRACTED</th>\n",
       "      <th>DATA_PATH</th>\n",
       "      <th>NOTES</th>\n",
       "    </tr>\n",
       "  </thead>\n",
       "  <tbody>\n",
       "    <tr>\n",
       "      <th>0</th>\n",
       "      <td>AmazonFACE</td>\n",
       "      <td>ring1</td>\n",
       "      <td>Brazil</td>\n",
       "      <td>-2.817529</td>\n",
       "      <td>-60.098896</td>\n",
       "      <td>90</td>\n",
       "      <td>2016</td>\n",
       "      <td>15-09-16</td>\n",
       "      <td>32</td>\n",
       "      <td>0.04</td>\n",
       "      <td>YES</td>\n",
       "      <td>NO</td>\n",
       "      <td>YES</td>\n",
       "      <td>NO</td>\n",
       "      <td>/data/eos/TLS/brazil/…</td>\n",
       "      <td>just a placeholder information</td>\n",
       "    </tr>\n",
       "    <tr>\n",
       "      <th>1</th>\n",
       "      <td>AmazonFACE</td>\n",
       "      <td>ring1</td>\n",
       "      <td>Brazil</td>\n",
       "      <td>-2.817537</td>\n",
       "      <td>-60.098870</td>\n",
       "      <td>90</td>\n",
       "      <td>2016</td>\n",
       "      <td>15-09-16</td>\n",
       "      <td>32</td>\n",
       "      <td>0.04</td>\n",
       "      <td>YES</td>\n",
       "      <td>NO</td>\n",
       "      <td>YES</td>\n",
       "      <td>NO</td>\n",
       "      <td>/data/eos/TLS/brazil/…</td>\n",
       "      <td>just a placeholder information</td>\n",
       "    </tr>\n",
       "    <tr>\n",
       "      <th>2</th>\n",
       "      <td>AmazonFACE</td>\n",
       "      <td>ring1</td>\n",
       "      <td>Brazil</td>\n",
       "      <td>-2.817549</td>\n",
       "      <td>-60.098866</td>\n",
       "      <td>90</td>\n",
       "      <td>2016</td>\n",
       "      <td>15-09-16</td>\n",
       "      <td>32</td>\n",
       "      <td>0.04</td>\n",
       "      <td>YES</td>\n",
       "      <td>NO</td>\n",
       "      <td>YES</td>\n",
       "      <td>NO</td>\n",
       "      <td>/data/eos/TLS/brazil/…</td>\n",
       "      <td>just a placeholder information</td>\n",
       "    </tr>\n",
       "  </tbody>\n",
       "</table>\n",
       "</div>"
      ],
      "text/plain": [
       "    SITE_NAME PLOT_NAME SITE_COUNTRY  SITE_LAT  SITE_LONG  SITE_ALT  YEAR  \\\n",
       "0  AmazonFACE     ring1       Brazil -2.817529 -60.098896        90  2016   \n",
       "1  AmazonFACE     ring1       Brazil -2.817537 -60.098870        90  2016   \n",
       "2  AmazonFACE     ring1       Brazil -2.817549 -60.098866        90  2016   \n",
       "\n",
       "  SCAN_DATES  NUMBER_OF_SCANS  SCAN_ANGULAR_RES TILT_SCAN CAMERA_DATA  \\\n",
       "0   15-09-16               32              0.04       YES          NO   \n",
       "1   15-09-16               32              0.04       YES          NO   \n",
       "2   15-09-16               32              0.04       YES          NO   \n",
       "\n",
       "  DATA_REGISTERED TREES_EXTRACTED               DATA_PATH  \\\n",
       "0             YES              NO  /data/eos/TLS/brazil/…   \n",
       "1             YES              NO  /data/eos/TLS/brazil/…   \n",
       "2             YES              NO  /data/eos/TLS/brazil/…   \n",
       "\n",
       "                            NOTES  \n",
       "0  just a placeholder information  \n",
       "1  just a placeholder information  \n",
       "2  just a placeholder information  "
      ]
     },
     "execution_count": 90,
     "metadata": {},
     "output_type": "execute_result"
    }
   ],
   "source": [
    "db = pd.read_csv(\"../data/fieldwork_database.csv\")\n",
    "db"
   ]
  },
  {
   "cell_type": "code",
   "execution_count": 94,
   "metadata": {
    "collapsed": true,
    "scrolled": false
   },
   "outputs": [],
   "source": [
    "m = folium.Map([0, 0], zoom_start=2)"
   ]
  },
  {
   "cell_type": "code",
   "execution_count": 95,
   "metadata": {},
   "outputs": [],
   "source": [
    "marker_cluster = MarkerCluster().add_to(m)\n",
    "\n",
    "#for point in range(0, len(locationlist)):\n",
    "    #folium.Marker(locationlist[point], popup=df_counters['Name'][point]).add_to(marker_cluster)\n",
    "\n",
    "for index, row in db.iterrows():\n",
    "    df = pd.DataFrame(row)\n",
    "    html = df.to_html()\n",
    "    popup = folium.Popup(html)\n",
    "    #folium.Marker([row['SITE_LAT'], row['SITE_LONG']], popup=popup).add_to(m)\n",
    "    folium.Marker([row['SITE_LAT'], row['SITE_LONG']], popup=popup).add_to(marker_cluster)\n",
    "\n",
    "m.save(os.path.join('../html', 'plot_sites.html'))"
   ]
  },
  {
   "cell_type": "code",
   "execution_count": 96,
   "metadata": {},
   "outputs": [
    {
     "data": {
      "text/html": [
       "<div style=\"width:100%;\"><div style=\"position:relative;width:100%;height:0;padding-bottom:60%;\"><iframe src=\"data:text/html;charset=utf-8;base64,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\" style=\"position:absolute;width:100%;height:100%;left:0;top:0;border:none !important;\" allowfullscreen webkitallowfullscreen mozallowfullscreen></iframe></div></div>"
      ],
      "text/plain": [
       "<folium.folium.Map at 0xade9160>"
      ]
     },
     "execution_count": 96,
     "metadata": {},
     "output_type": "execute_result"
    }
   ],
   "source": [
    "m"
   ]
  },
  {
   "cell_type": "code",
   "execution_count": null,
   "metadata": {
    "collapsed": true
   },
   "outputs": [],
   "source": []
  }
 ],
 "metadata": {
  "kernelspec": {
   "display_name": "Python 2",
   "language": "python",
   "name": "python2"
  },
  "language_info": {
   "codemirror_mode": {
    "name": "ipython",
    "version": 2
   },
   "file_extension": ".py",
   "mimetype": "text/x-python",
   "name": "python",
   "nbconvert_exporter": "python",
   "pygments_lexer": "ipython2",
   "version": "2.7.13"
  }
 },
 "nbformat": 4,
 "nbformat_minor": 2
}
